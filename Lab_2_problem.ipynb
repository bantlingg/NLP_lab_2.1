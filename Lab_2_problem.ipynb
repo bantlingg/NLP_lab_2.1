{
 "cells": [
  {
   "cell_type": "code",
   "execution_count": 1,
   "id": "f5cf87b4-bab5-473b-a644-7baf2d952264",
   "metadata": {
    "tags": []
   },
   "outputs": [
    {
     "name": "stderr",
     "output_type": "stream",
     "text": [
      "2023-10-18 17:33:50.297 INFO in 'deeppavlov.download'['download'] at line 138: Skipped http://files.deeppavlov.ai/v1/squad/squad_torch_bert_cased.tar.gz download because of matching hashes\n",
      "C:\\Users\\admin\\anaconda3\\envs\\deeppavlov_lab2\\lib\\site-packages\\tqdm\\auto.py:22: TqdmWarning: IProgress not found. Please update jupyter and ipywidgets. See https://ipywidgets.readthedocs.io/en/stable/user_install.html\n",
      "  from .autonotebook import tqdm as notebook_tqdm\n",
      "(…)cased/resolve/main/tokenizer_config.json: 100%|██████████████████████████████████████████| 29.0/29.0 [00:00<?, ?B/s]\n",
      "(…)bert-base-cased/resolve/main/config.json: 100%|████████████████████████████████████████████| 570/570 [00:00<?, ?B/s]\n",
      "(…)o/bert-base-cased/resolve/main/vocab.txt: 100%|███████████████████████████████████| 213k/213k [00:00<00:00, 541kB/s]\n",
      "(…)t-base-cased/resolve/main/tokenizer.json: 100%|███████████████████████████████████| 436k/436k [00:00<00:00, 495kB/s]\n",
      "model.safetensors: 100%|█████████████████████████████████████████████████████████████| 436M/436M [11:25<00:00, 636kB/s]\n",
      "Some weights of the model checkpoint at bert-base-cased were not used when initializing BertForQuestionAnswering: ['cls.predictions.transform.dense.bias', 'cls.seq_relationship.weight', 'cls.seq_relationship.bias', 'cls.predictions.transform.dense.weight', 'cls.predictions.transform.LayerNorm.weight', 'cls.predictions.bias', 'cls.predictions.transform.LayerNorm.bias']\n",
      "- This IS expected if you are initializing BertForQuestionAnswering from the checkpoint of a model trained on another task or with another architecture (e.g. initializing a BertForSequenceClassification model from a BertForPreTraining model).\n",
      "- This IS NOT expected if you are initializing BertForQuestionAnswering from the checkpoint of a model that you expect to be exactly identical (initializing a BertForSequenceClassification model from a BertForSequenceClassification model).\n",
      "Some weights of BertForQuestionAnswering were not initialized from the model checkpoint at bert-base-cased and are newly initialized: ['qa_outputs.weight', 'qa_outputs.bias']\n",
      "You should probably TRAIN this model on a down-stream task to be able to use it for predictions and inference.\n",
      "2023-10-18 17:45:25.887 WARNING in 'deeppavlov.core.models.torch_model'['torch_model'] at line 96: Unable to place component TorchTransformersSquad on GPU, since no CUDA GPUs are available. Using CPU.\n"
     ]
    }
   ],
   "source": []
  },
  {
   "cell_type": "code",
   "execution_count": 25,
   "id": "d1afeaf6-7536-496d-82c9-a14236bdacc2",
   "metadata": {
    "tags": []
   },
   "outputs": [
    {
     "name": "stderr",
     "output_type": "stream",
     "text": [
      "2023-10-18 18:20:27.883 INFO in 'deeppavlov.core.data.utils'['utils'] at line 95: Downloading from http://files.deeppavlov.ai/v1/squad/squad_torch_bert_cased.tar.gz to C:\\Users\\admin\\.deeppavlov\\models\\squad_torch_bert\\cased\\squad_torch_bert_cased.tar.gz\n",
      "2023-10-18 18:20:28.586 WARNING in 'deeppavlov.core.data.utils'['utils'] at line 114: Found a partial download C:\\Users\\admin\\.deeppavlov\\models\\squad_torch_bert\\cased\\squad_torch_bert_cased.tar.gz.part\n",
      "  3%|██▎                                                                                  | 31.8M/1.18G [00:00<?, ?B/s]2023-10-18 18:20:28.592 WARNING in 'deeppavlov.core.data.utils'['utils'] at line 118: Download stopped abruptly, trying to resume from 31752192 to reach 1176144811\n",
      "100%|█████████████████████████████████████████████████████████████████████████████| 1.18G/1.18G [01:44<00:00, 11.0MB/s]\n",
      "2023-10-18 18:22:12.633 INFO in 'deeppavlov.core.data.utils'['utils'] at line 276: Extracting C:\\Users\\admin\\.deeppavlov\\models\\squad_torch_bert\\cased\\squad_torch_bert_cased.tar.gz archive into C:\\Users\\admin\\.deeppavlov\\models\\squad_torch_bert\\cased\\bert-base-cased\n",
      "Some weights of the model checkpoint at bert-base-cased were not used when initializing BertForQuestionAnswering: ['cls.predictions.transform.dense.bias', 'cls.seq_relationship.weight', 'cls.seq_relationship.bias', 'cls.predictions.transform.dense.weight', 'cls.predictions.transform.LayerNorm.weight', 'cls.predictions.bias', 'cls.predictions.transform.LayerNorm.bias']\n",
      "- This IS expected if you are initializing BertForQuestionAnswering from the checkpoint of a model trained on another task or with another architecture (e.g. initializing a BertForSequenceClassification model from a BertForPreTraining model).\n",
      "- This IS NOT expected if you are initializing BertForQuestionAnswering from the checkpoint of a model that you expect to be exactly identical (initializing a BertForSequenceClassification model from a BertForSequenceClassification model).\n",
      "Some weights of BertForQuestionAnswering were not initialized from the model checkpoint at bert-base-cased and are newly initialized: ['qa_outputs.weight', 'qa_outputs.bias']\n",
      "You should probably TRAIN this model on a down-stream task to be able to use it for predictions and inference.\n",
      "2023-10-18 18:22:18.691 WARNING in 'deeppavlov.core.models.torch_model'['torch_model'] at line 96: Unable to place component TorchTransformersSquad on GPU, since no CUDA GPUs are available. Using CPU.\n"
     ]
    }
   ],
   "source": [
    "from deeppavlov import build_model\n",
    "\n",
    "model = build_model('squad_bert', download=True)\n"
   ]
  },
  {
   "cell_type": "code",
   "execution_count": 26,
   "id": "c876d159-d3a7-482e-a96e-30971976b3f2",
   "metadata": {
    "tags": []
   },
   "outputs": [
    {
     "name": "stderr",
     "output_type": "stream",
     "text": [
      "2023-10-18 18:22:19.920 INFO in 'deeppavlov.download'['download'] at line 138: Skipped http://files.deeppavlov.ai/datasets/insults_data.tar.gz download because of matching hashes\n",
      "2023-10-18 18:22:33.306 INFO in 'deeppavlov.download'['download'] at line 138: Skipped http://files.deeppavlov.ai/deeppavlov_data/classifiers/insults_kaggle_torch_bert_v5.tar.gz download because of matching hashes\n",
      "Some weights of the model checkpoint at bert-base-uncased were not used when initializing BertForSequenceClassification: ['cls.predictions.transform.dense.bias', 'cls.seq_relationship.weight', 'cls.seq_relationship.bias', 'cls.predictions.transform.dense.weight', 'cls.predictions.bias', 'cls.predictions.transform.LayerNorm.bias', 'cls.predictions.transform.LayerNorm.weight']\n",
      "- This IS expected if you are initializing BertForSequenceClassification from the checkpoint of a model trained on another task or with another architecture (e.g. initializing a BertForSequenceClassification model from a BertForPreTraining model).\n",
      "- This IS NOT expected if you are initializing BertForSequenceClassification from the checkpoint of a model that you expect to be exactly identical (initializing a BertForSequenceClassification model from a BertForSequenceClassification model).\n",
      "Some weights of BertForSequenceClassification were not initialized from the model checkpoint at bert-base-uncased and are newly initialized: ['classifier.bias', 'classifier.weight']\n",
      "You should probably TRAIN this model on a down-stream task to be able to use it for predictions and inference.\n",
      "2023-10-18 18:22:34.258 WARNING in 'deeppavlov.core.models.torch_model'['torch_model'] at line 96: Unable to place component TorchTransformersClassifierModel on GPU, since no CUDA GPUs are available. Using CPU.\n"
     ]
    }
   ],
   "source": [
    "from deeppavlov import build_model\n",
    "\n",
    "model2 = build_model('insults_kaggle_bert', download=True)"
   ]
  },
  {
   "cell_type": "code",
   "execution_count": 68,
   "id": "88e6aad6-1b70-47db-8d31-8509146e72a4",
   "metadata": {
    "tags": []
   },
   "outputs": [
    {
     "data": {
      "text/plain": [
       "['Insult']"
      ]
     },
     "execution_count": 68,
     "metadata": {},
     "output_type": "execute_result"
    }
   ],
   "source": [
    "a1='Pavel, you are stupid boy'\n",
    "model2([a1])"
   ]
  },
  {
   "cell_type": "code",
   "execution_count": 69,
   "id": "88c3d6d6-a6cc-4100-87ba-55a0330c615f",
   "metadata": {
    "tags": []
   },
   "outputs": [],
   "source": [
    "a = model2([a1])"
   ]
  },
  {
   "cell_type": "code",
   "execution_count": 70,
   "id": "3ca2a201-5f46-4d05-9ec8-003ac37ca1a6",
   "metadata": {
    "tags": []
   },
   "outputs": [
    {
     "name": "stdout",
     "output_type": "stream",
     "text": [
      "[['Pavel'], [0], [1.0]]\n"
     ]
    }
   ],
   "source": [
    "if a[0] == 'Insult':\n",
    "    print (model([a1],['who is stupid?']))"
   ]
  },
  {
   "cell_type": "code",
   "execution_count": null,
   "id": "3cd9b836-49a7-49c4-b752-01b0eb4fb449",
   "metadata": {
    "tags": []
   },
   "outputs": [],
   "source": []
  },
  {
   "cell_type": "code",
   "execution_count": null,
   "id": "793f3011-a149-4915-941c-c4373d1e3bda",
   "metadata": {
    "tags": []
   },
   "outputs": [],
   "source": []
  },
  {
   "cell_type": "code",
   "execution_count": null,
   "id": "0dc480d2-65d1-4b50-a4d5-dfab1c6a283a",
   "metadata": {
    "tags": []
   },
   "outputs": [],
   "source": []
  },
  {
   "cell_type": "code",
   "execution_count": null,
   "id": "edb207d9-e5da-41a6-9835-3b9daddc7e61",
   "metadata": {
    "tags": []
   },
   "outputs": [],
   "source": []
  },
  {
   "cell_type": "code",
   "execution_count": null,
   "id": "7307a1aa-0b7a-4ad3-ac83-2d21bc8d9848",
   "metadata": {
    "tags": []
   },
   "outputs": [],
   "source": []
  },
  {
   "cell_type": "code",
   "execution_count": null,
   "id": "443f05ff-20b5-45a8-a0f7-e0ba2f7e78dc",
   "metadata": {
    "tags": []
   },
   "outputs": [],
   "source": []
  },
  {
   "cell_type": "code",
   "execution_count": null,
   "id": "dfa989ef-ce9c-491d-a1e1-d8c4b0419df8",
   "metadata": {
    "tags": []
   },
   "outputs": [],
   "source": []
  },
  {
   "cell_type": "code",
   "execution_count": null,
   "id": "7d6e8cc6-3a8a-4908-8ea8-cc276ab2f5d7",
   "metadata": {
    "tags": []
   },
   "outputs": [],
   "source": []
  },
  {
   "cell_type": "code",
   "execution_count": null,
   "id": "10cd881c-4fb3-4c04-b0b3-e71a9beb1c5d",
   "metadata": {
    "tags": []
   },
   "outputs": [],
   "source": []
  },
  {
   "cell_type": "code",
   "execution_count": null,
   "id": "a5962767-f1e9-4433-80a5-59db433b146b",
   "metadata": {
    "tags": []
   },
   "outputs": [],
   "source": []
  },
  {
   "cell_type": "code",
   "execution_count": null,
   "id": "cefca3b0-f489-4132-9093-f7e2e9ac596f",
   "metadata": {
    "tags": []
   },
   "outputs": [],
   "source": []
  },
  {
   "cell_type": "code",
   "execution_count": null,
   "id": "781d5138-e64f-4dd7-989d-1237ebccc2a9",
   "metadata": {},
   "outputs": [],
   "source": []
  },
  {
   "cell_type": "code",
   "execution_count": null,
   "id": "5c1de7a1-7e74-4b6b-aa6b-2fd26c63dad7",
   "metadata": {},
   "outputs": [],
   "source": []
  },
  {
   "cell_type": "code",
   "execution_count": null,
   "id": "4c071890-f260-49e7-a24f-c919853012bb",
   "metadata": {},
   "outputs": [],
   "source": []
  },
  {
   "cell_type": "code",
   "execution_count": null,
   "id": "94b4c2a1-e291-4657-81af-bf1eecbebec1",
   "metadata": {},
   "outputs": [],
   "source": []
  },
  {
   "cell_type": "code",
   "execution_count": null,
   "id": "e4798380-7efa-4eeb-9111-ed9dff74e63d",
   "metadata": {},
   "outputs": [],
   "source": []
  }
 ],
 "metadata": {
  "kernelspec": {
   "display_name": "Python 3 (ipykernel)",
   "language": "python",
   "name": "python3"
  },
  "language_info": {
   "codemirror_mode": {
    "name": "ipython",
    "version": 3
   },
   "file_extension": ".py",
   "mimetype": "text/x-python",
   "name": "python",
   "nbconvert_exporter": "python",
   "pygments_lexer": "ipython3",
   "version": "3.10.13"
  }
 },
 "nbformat": 4,
 "nbformat_minor": 5
}
